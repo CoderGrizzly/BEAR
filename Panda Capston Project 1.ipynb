{
 "cells": [
  {
   "cell_type": "markdown",
   "metadata": {},
   "source": [
    "# Panda Capston Project(Part 1)"
   ]
  },
  {
   "cell_type": "markdown",
   "metadata": {},
   "source": [
    "## Introduction\n",
    "This project is aimed towards selecting a location for opening a restaurant out of various other suitable locations in Mumbai which is also sometimes referred to as 'The second capital of India' and is one of the most densely populated city in the world.Due to it's huge land size with a fair share of buzzling and 'not-so' buzzling streets, it becomes a huge challenge for those that wants to become a successful restaurant owner.Even if we found all the buzzling streets we have to keep in mind that not all areas and corners are same and that opening a restaurant anywhere in these locations can still increase or decrease our chances of success for our restaurant solely based on location.Thus, by using the concepts of Data Science we can make use of available datas and try to infer possible locations through various calculations and visualizations thereby predicting a much more viable location for opening a restaurant with favourable chances of success(i.e based on location).This Data Science project is for those owners and businesses that are interested in opening a restaurant or a restaurant chain in a city like Mumbai."
   ]
  },
  {
   "cell_type": "markdown",
   "metadata": {},
   "source": [
    "## Description\n",
    "Since our aim is to find location, we would first need to determine all the areas along with it's geographical latitude and longitude before we can work our way towards classification and clustering based on various venues in it's vicinity.For this, we have selected the top 50 areas along with it's Postal code as a base data which are located within the Suburban and Urban landscape of Mumbai."
   ]
  },
  {
   "cell_type": "markdown",
   "metadata": {},
   "source": [
    "From there, with the help of Postal codes of each area, we would find their latitudes and longitudes and by using Foursquare API, we would find all the nearby venues.These data would then be geared towards finding the most common venues within those location. These locations would then be clustered together and then visualized and based on the cluster points we can find the general behaviour and trend within these locations."
   ]
  },
  {
   "cell_type": "markdown",
   "metadata": {},
   "source": [
    "By comparing the nearby cluster points, combined with a little background information about the nearby areas should suffice to give an idea about how well a restaurant would perform if it were to open in that particular location."
   ]
  }
 ],
 "metadata": {
  "kernelspec": {
   "display_name": "Python 3",
   "language": "python",
   "name": "python3"
  },
  "language_info": {
   "codemirror_mode": {
    "name": "ipython",
    "version": 3
   },
   "file_extension": ".py",
   "mimetype": "text/x-python",
   "name": "python",
   "nbconvert_exporter": "python",
   "pygments_lexer": "ipython3",
   "version": "3.7.4"
  }
 },
 "nbformat": 4,
 "nbformat_minor": 4
}
